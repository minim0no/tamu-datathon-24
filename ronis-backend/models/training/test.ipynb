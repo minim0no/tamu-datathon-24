{
 "cells": [
  {
   "cell_type": "code",
   "execution_count": 15,
   "metadata": {},
   "outputs": [],
   "source": [
    "import joblib\n",
    "import pandas as pd"
   ]
  },
  {
   "cell_type": "code",
   "execution_count": 3,
   "metadata": {},
   "outputs": [],
   "source": [
    "meat_model = joblib.load('./models/meat_prediction.joblib')\n",
    "toppings_model = joblib.load('./models/toppings_prediction.joblib')\n",
    "drizzles_model = joblib.load('./models/drizzles_prediction.joblib')\n",
    "cheese_model = joblib.load('./models/cheese_prediction.joblib')"
   ]
  },
  {
   "cell_type": "code",
   "execution_count": 23,
   "metadata": {},
   "outputs": [],
   "source": [
    "meats = ['Pulled Pork', 'Brisket', 'No Meat', 'Bacon', 'Grilled Chicken', 'Ham']\n",
    "toppings = ['Broccoli', 'Tomatoes', 'Breadcrumbs', 'Corn', 'Mushrooms', 'Parmesan', 'Jalapenos', 'No Toppings', 'Bell Peppers', 'Pineapple', 'Onions']\n",
    "drizzles = ['BBQ', 'No Drizzle', 'Garlic Parmesan', 'Hot Honey', 'Ranch', 'Buffalo', 'Pesto']\n",
    "cheese = ['Cheddar', 'Pepper Jack', 'Alfredo', 'MIX', 'NO CHEESE', 'Gouda']"
   ]
  },
  {
   "cell_type": "code",
   "execution_count": 43,
   "metadata": {},
   "outputs": [],
   "source": [
    "def predict(model, array, inputs):\n",
    "    feature_names = ['day', 'hour', 'temperature', 'holiday']\n",
    "\n",
    "    input_data = pd.DataFrame([inputs], columns=feature_names)\n",
    "\n",
    "    probabilities = [estimator.predict_proba(input_data)[:, 1] for estimator in model.estimators_]\n",
    "    probabilities = pd.DataFrame(probabilities, index=array).T\n",
    "\n",
    "    return probabilities"
   ]
  },
  {
   "cell_type": "code",
   "execution_count": 44,
   "metadata": {},
   "outputs": [],
   "source": [
    "meat_prediction_df = predict(meat_model, meats, [20, 16, 40, 1])"
   ]
  },
  {
   "cell_type": "code",
   "execution_count": 45,
   "metadata": {},
   "outputs": [
    {
     "data": {
      "text/html": [
       "<div>\n",
       "<style scoped>\n",
       "    .dataframe tbody tr th:only-of-type {\n",
       "        vertical-align: middle;\n",
       "    }\n",
       "\n",
       "    .dataframe tbody tr th {\n",
       "        vertical-align: top;\n",
       "    }\n",
       "\n",
       "    .dataframe thead th {\n",
       "        text-align: right;\n",
       "    }\n",
       "</style>\n",
       "<table border=\"1\" class=\"dataframe\">\n",
       "  <thead>\n",
       "    <tr style=\"text-align: right;\">\n",
       "      <th></th>\n",
       "      <th>Pulled Pork</th>\n",
       "      <th>Brisket</th>\n",
       "      <th>No Meat</th>\n",
       "      <th>Bacon</th>\n",
       "      <th>Grilled Chicken</th>\n",
       "      <th>Ham</th>\n",
       "    </tr>\n",
       "  </thead>\n",
       "  <tbody>\n",
       "    <tr>\n",
       "      <th>0</th>\n",
       "      <td>0.15</td>\n",
       "      <td>0.37</td>\n",
       "      <td>0.25</td>\n",
       "      <td>0.37</td>\n",
       "      <td>0.58</td>\n",
       "      <td>0.01</td>\n",
       "    </tr>\n",
       "  </tbody>\n",
       "</table>\n",
       "</div>"
      ],
      "text/plain": [
       "   Pulled Pork  Brisket  No Meat  Bacon  Grilled Chicken   Ham\n",
       "0         0.15     0.37     0.25   0.37             0.58  0.01"
      ]
     },
     "execution_count": 45,
     "metadata": {},
     "output_type": "execute_result"
    }
   ],
   "source": [
    "meat_prediction_df"
   ]
  },
  {
   "cell_type": "code",
   "execution_count": null,
   "metadata": {},
   "outputs": [],
   "source": []
  }
 ],
 "metadata": {
  "kernelspec": {
   "display_name": "Python 3",
   "language": "python",
   "name": "python3"
  },
  "language_info": {
   "codemirror_mode": {
    "name": "ipython",
    "version": 3
   },
   "file_extension": ".py",
   "mimetype": "text/x-python",
   "name": "python",
   "nbconvert_exporter": "python",
   "pygments_lexer": "ipython3",
   "version": "3.11.5"
  }
 },
 "nbformat": 4,
 "nbformat_minor": 2
}
